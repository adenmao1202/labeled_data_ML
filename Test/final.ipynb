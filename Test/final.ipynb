{
 "cells": [
  {
   "cell_type": "code",
   "execution_count": 1,
   "metadata": {},
   "outputs": [],
   "source": [
    "import numpy as np\n",
    "import pandas as pd\n",
    "import matplotlib.pyplot as plt\n",
    "import seaborn as sns\n",
    "from scipy import stats\n",
    "from sklearn.decomposition import PCA\n",
    "import warnings\n",
    "warnings.filterwarnings('ignore')\n",
    "\n",
    "path1 = '/Users/mouyasushi/Desktop/vici holdings/Test/data/train_data.npy'\n",
    "train_data = np.load(path1)\n",
    "\n",
    "path2 = '/Users/mouyasushi/Desktop/vici holdings/Test/data/train_labels.npy'\n",
    "train_labels = np.load(path2)\n",
    "\n",
    "# 轉換為 DataFrame\n",
    "df = pd.DataFrame(train_data)\n",
    "df['label'] = train_labels  # 添加標籤列\n"
   ]
  },
  {
   "cell_type": "code",
   "execution_count": 2,
   "metadata": {},
   "outputs": [],
   "source": [
    "def check_missing_values(df):\n",
    "   \n",
    "    missing_count = df.isnull().sum()\n",
    "    missing_percent = (missing_count / len(df)) * 100\n",
    "    \n",
    "    missing_data = pd.DataFrame({\n",
    "        'missing_count': missing_count,\n",
    "        'missing_percent': missing_percent\n",
    "    })\n",
    "    \n",
    "    missing_data = missing_data[missing_data['missing_percent'] > 0].sort_values('missing_percent', ascending=False)\n",
    "    \n",
    "    if len(missing_data) > 0:\n",
    "        print(\"missing values:\")\n",
    "        print(missing_data)\n",
    "    else:\n",
    "        print(\"no missing values\")\n",
    "    \n",
    "    return missing_data\n",
    "\n",
    "def detect_constant_features(df):\n",
    "    constant_features = []\n",
    "    \n",
    "    for col in df.columns:\n",
    "        if df[col].nunique() == 1:\n",
    "            constant_features.append(col)\n",
    "\n",
    "    \n",
    "    return constant_features\n",
    "\n",
    "def detect_binary_features(df):\n",
    "    binary_features = []\n",
    "    \n",
    "    for col in df.columns:\n",
    "    \n",
    "        if df[col].dtype != 'object':\n",
    "            unique_values = df[col].unique()\n",
    "            if len(unique_values) == 2 and 0 in unique_values and 1 in unique_values:\n",
    "                binary_features.append(col)\n",
    "    \n",
    "    return binary_features\n"
   ]
  },
  {
   "cell_type": "code",
   "execution_count": 3,
   "metadata": {},
   "outputs": [
    {
     "name": "stdout",
     "output_type": "stream",
     "text": [
      "no missing values\n"
     ]
    },
    {
     "data": {
      "text/html": [
       "<div>\n",
       "<style scoped>\n",
       "    .dataframe tbody tr th:only-of-type {\n",
       "        vertical-align: middle;\n",
       "    }\n",
       "\n",
       "    .dataframe tbody tr th {\n",
       "        vertical-align: top;\n",
       "    }\n",
       "\n",
       "    .dataframe thead th {\n",
       "        text-align: right;\n",
       "    }\n",
       "</style>\n",
       "<table border=\"1\" class=\"dataframe\">\n",
       "  <thead>\n",
       "    <tr style=\"text-align: right;\">\n",
       "      <th></th>\n",
       "      <th>missing_count</th>\n",
       "      <th>missing_percent</th>\n",
       "    </tr>\n",
       "  </thead>\n",
       "  <tbody>\n",
       "  </tbody>\n",
       "</table>\n",
       "</div>"
      ],
      "text/plain": [
       "Empty DataFrame\n",
       "Columns: [missing_count, missing_percent]\n",
       "Index: []"
      ]
     },
     "execution_count": 3,
     "metadata": {},
     "output_type": "execute_result"
    }
   ],
   "source": [
    "missing_data = check_missing_values(df)\n",
    "missing_data"
   ]
  },
  {
   "cell_type": "code",
   "execution_count": 4,
   "metadata": {},
   "outputs": [
    {
     "data": {
      "text/plain": [
       "[]"
      ]
     },
     "execution_count": 4,
     "metadata": {},
     "output_type": "execute_result"
    }
   ],
   "source": [
    "constant_feature = detect_constant_features(df)\n",
    "constant_feature"
   ]
  },
  {
   "cell_type": "markdown",
   "metadata": {},
   "source": [
    "Analyze Binary feature "
   ]
  },
  {
   "cell_type": "code",
   "execution_count": 5,
   "metadata": {},
   "outputs": [
    {
     "data": {
      "text/plain": [
       "[56, 57, 58, 59, 60]"
      ]
     },
     "execution_count": 5,
     "metadata": {},
     "output_type": "execute_result"
    }
   ],
   "source": [
    "binary_feature = detect_binary_features(df)\n",
    "binary_feature"
   ]
  },
  {
   "cell_type": "markdown",
   "metadata": {},
   "source": [
    "analyze feature skewness\n",
    "- threshold  = 1.0 "
   ]
  },
  {
   "cell_type": "code",
   "execution_count": 6,
   "metadata": {},
   "outputs": [],
   "source": [
    "def analyze_skewness(df, threshold=1.0):\n",
    "    \n",
    "    numeric_cols = df.select_dtypes(include=np.number).columns\n",
    "    skew_values = df[numeric_cols].skew()\n",
    "    \n",
    "    highly_skewed = skew_values[abs(skew_values) > threshold].sort_values(ascending=False)\n",
    "    \n",
    "    return highly_skewed\n",
    "\n"
   ]
  },
  {
   "cell_type": "code",
   "execution_count": 7,
   "metadata": {},
   "outputs": [
    {
     "data": {
      "text/plain": [
       "52    465.216052\n",
       "67     85.777991\n",
       "65     60.587154\n",
       "61     60.378028\n",
       "62     60.289686\n",
       "dtype: float64"
      ]
     },
     "execution_count": 7,
     "metadata": {},
     "output_type": "execute_result"
    }
   ],
   "source": [
    "skewed_features = analyze_skewness(df)\n",
    "skewed_features.head()"
   ]
  },
  {
   "cell_type": "markdown",
   "metadata": {},
   "source": [
    "analyze feature kurtosis \n",
    "- threshold  = 3 "
   ]
  },
  {
   "cell_type": "code",
   "execution_count": 8,
   "metadata": {},
   "outputs": [],
   "source": [
    "def analyze_kurtosis(df, threshold=3.0):\n",
    "    \n",
    "    numeric_cols = df.select_dtypes(include=np.number).columns\n",
    "    kurt_values = df[numeric_cols].kurtosis()\n",
    "    \n",
    "    high_kurtosis = kurt_values[kurt_values > threshold].sort_values(ascending=False)\n",
    "    \n",
    "    if len(high_kurtosis) > 0:\n",
    "        print(f\"high kurtosis feature (kurtosis > {threshold}):\")\n",
    "        print(high_kurtosis)\n",
    "    else:\n",
    "        print(f\"no high kurtosis feature (kurtosis > {threshold})\")\n",
    "    \n",
    "    return high_kurtosis\n"
   ]
  },
  {
   "cell_type": "code",
   "execution_count": 9,
   "metadata": {},
   "outputs": [
    {
     "name": "stdout",
     "output_type": "stream",
     "text": [
      "high kurtosis feature (kurtosis > 3.0):\n",
      "52    341159.105444\n",
      "67      8739.241466\n",
      "65      4363.527474\n",
      "62      4303.511064\n",
      "61      4300.096712\n",
      "64      4237.464057\n",
      "63      3839.787366\n",
      "66       451.778121\n",
      "55       349.670870\n",
      "49       229.815216\n",
      "69        53.654486\n",
      "4         43.335396\n",
      "2         42.065093\n",
      "5         41.680203\n",
      "3         35.947979\n",
      "17        22.461061\n",
      "15        21.065172\n",
      "68        20.851945\n",
      "53        12.811908\n",
      "54         9.201924\n",
      "40         8.777380\n",
      "14         8.200595\n",
      "16         7.954253\n",
      "57         4.593446\n",
      "56         4.245312\n",
      "42         3.792548\n",
      "44         3.289681\n",
      "13         3.158244\n",
      "dtype: float64\n"
     ]
    },
    {
     "data": {
      "text/plain": [
       "52    341159.105444\n",
       "67      8739.241466\n",
       "65      4363.527474\n",
       "62      4303.511064\n",
       "61      4300.096712\n",
       "dtype: float64"
      ]
     },
     "execution_count": 9,
     "metadata": {},
     "output_type": "execute_result"
    }
   ],
   "source": [
    "kurt_features = analyze_kurtosis(df)\n",
    "kurt_features.head()"
   ]
  },
  {
   "cell_type": "markdown",
   "metadata": {},
   "source": [
    "analyze feature with outliers \n",
    "- threshold : z > 3 \n",
    "- in order to see features with fat tail distribution "
   ]
  },
  {
   "cell_type": "code",
   "execution_count": 10,
   "metadata": {},
   "outputs": [],
   "source": [
    "def detect_outliers_zscore(df, threshold=3.0):\n",
    "    \n",
    "    numeric_cols = df.select_dtypes(include=np.number).columns\n",
    "    outlier_counts = {}\n",
    "    \n",
    "    for col in numeric_cols:\n",
    "        z_scores = np.abs(stats.zscore(df[col].dropna()))\n",
    "        outliers = (z_scores > threshold).sum()\n",
    "        if outliers > 0:\n",
    "            outlier_counts[col] = outliers\n",
    "    \n",
    "    # 排序并显示结果\n",
    "    if outlier_counts:\n",
    "        outlier_df = pd.DataFrame({\n",
    "            'outlier_count': outlier_counts,\n",
    "            'percentage(%)': {k: (v/len(df))*100 for k, v in outlier_counts.items()}\n",
    "        }).sort_values('outlier_count', ascending=False)\n",
    "        print(\"(|Z| > {}):\".format(threshold))\n",
    "        print(outlier_df)\n",
    "    else:\n",
    "        print(f\"no outliers detected (|Z| > {threshold})\")\n",
    "    \n",
    "    "
   ]
  },
  {
   "cell_type": "code",
   "execution_count": 11,
   "metadata": {},
   "outputs": [
    {
     "name": "stdout",
     "output_type": "stream",
     "text": [
      "(|Z| > 3.0):\n",
      "    outlier_count  percentage(%)\n",
      "16          53580       4.562093\n",
      "15          52145       4.439909\n",
      "17          48889       4.162675\n",
      "14          42395       3.609741\n",
      "53          41529       3.536005\n",
      "..            ...            ...\n",
      "61           1242       0.105751\n",
      "64           1242       0.105751\n",
      "62           1242       0.105751\n",
      "0             788       0.067095\n",
      "24            128       0.010899\n",
      "\n",
      "[65 rows x 2 columns]\n"
     ]
    }
   ],
   "source": [
    "outliers_zscore = detect_outliers_zscore(df)\n",
    "outliers_zscore"
   ]
  },
  {
   "cell_type": "code",
   "execution_count": 45,
   "metadata": {},
   "outputs": [],
   "source": [
    "\n",
    "    \n",
    "def plot_feature_distribution(df, feature, figsize=(12, 5)):\n",
    "    \n",
    "    plt.figure(figsize=figsize)\n",
    "    \n",
    "    \n",
    "    plt.subplot(1, 2, 1)\n",
    "    sns.histplot(df[feature], kde=True)\n",
    "    plt.title(f'{feature} distribution')\n",
    "    plt.xlabel(feature)\n",
    "    plt.ylabel('frequency')\n",
    "    \n",
    "    \n",
    "    plt.subplot(1, 2, 2)\n",
    "    sns.boxplot(y=df[feature])\n",
    "    plt.title(f'{feature} boxplot')\n",
    "    plt.tight_layout()\n",
    "    plt.show()\n",
    "    \n",
    "    \n",
    "    print(f\"\\n{feature} statistics:\")\n",
    "    desc = df[feature].describe()\n",
    "    print(desc)\n",
    "    print(f\"skewness: {df[feature].skew():.4f}\")\n",
    "    print(f\"kurtosis: {df[feature].kurtosis():.4f}\")\n",
    "\n"
   ]
  },
  {
   "cell_type": "markdown",
   "metadata": {},
   "source": [
    "Plot each feature's :\n",
    "- distributions \n",
    "- box plot "
   ]
  },
  {
   "cell_type": "code",
   "execution_count": 46,
   "metadata": {},
   "outputs": [
    {
     "data": {
      "image/png": "[encoded data removed]",
      "text/plain": [
       "<Figure size 1200x500 with 2 Axes>"
      ]
     },
     "metadata": {},
     "output_type": "display_data"
    },
    {
     "name": "stdout",
     "output_type": "stream",
     "text": [
      "\n",
      "24 statistics:\n",
      "count    1.174461e+06\n",
      "mean     3.926416e-18\n",
      "std      9.999996e-01\n",
      "min     -3.557451e+00\n",
      "25%     -8.784684e-01\n",
      "50%     -2.575400e-01\n",
      "75%      9.004684e-01\n",
      "max      4.229294e+00\n",
      "Name: 24, dtype: float64\n",
      "skewness: 0.0757\n",
      "kurtosis: -1.3141\n"
     ]
    }
   ],
   "source": [
    "plot_feature_distribution(df, 24)"
   ]
  },
  {
   "cell_type": "markdown",
   "metadata": {},
   "source": [
    "For those features that was highly skewed: \n",
    "- we should do transformation before standardization \n",
    "    - since standardization didn't change the distribution that much \n",
    "\n",
    "- method : log, sqrt, boxcox, yeo-johson. All suitable for different data type "
   ]
  },
  {
   "cell_type": "code",
   "execution_count": 15,
   "metadata": {},
   "outputs": [],
   "source": [
    "def feature_transformation(df, features_to_transform, method='log'):\n",
    "    \n",
    "    df_transformed = df.copy()\n",
    "    \n",
    "    for feature in features_to_transform:  # only transform the features in the list\n",
    "        \n",
    "        if feature not in df.columns:\n",
    "            print(f\" {feature} not exist, skip\")\n",
    "            continue\n",
    "        \n",
    "        \n",
    "        if not np.issubdtype(df[feature].dtype, np.number):\n",
    "            print(f\" {feature} is not numeric, skip\")\n",
    "            continue\n",
    "            \n",
    "        \n",
    "        current_method = method\n",
    "        \n",
    "        \n",
    "        if current_method == 'log':\n",
    "            if (df[feature] <= 0).any():\n",
    "                print(f\" {feature} has 0 or negative value, not suitable for log transformation\")\n",
    "                if (df[feature] < 0).any():\n",
    "                    print(f\" {feature} has negative values, using yeo-johnson instead\")\n",
    "                    current_method = 'yeo-johnson'\n",
    "                else:  \n",
    "                    print(f\" {feature} has zero values, using boxcox with offset instead\")\n",
    "                    current_method = 'boxcox'\n",
    "        \n",
    "        \n",
    "        try:\n",
    "            if current_method == 'log':\n",
    "                df_transformed[f\"{feature}_log\"] = np.log(df[feature])\n",
    "                print(f\"applied log transformation to {feature}\")\n",
    "                \n",
    "            elif current_method == 'sqrt':\n",
    "                if (df[feature] < 0).any():\n",
    "                    print(f\" {feature} has negative values, not suitable for sqrt transformation\")\n",
    "                    print(f\" using yeo-johnson instead\")\n",
    "                    current_method = 'yeo-johnson'\n",
    "                    df_transformed[f\"{feature}_yeojohnson\"], _ = stats.yeojohnson(df[feature])\n",
    "                    print(f\"applied yeo-johnson transformation to {feature}\")\n",
    "                else:\n",
    "                    df_transformed[f\"{feature}_sqrt\"] = np.sqrt(df[feature])\n",
    "                    print(f\"applied square root transformation to {feature}\")\n",
    "                \n",
    "            elif current_method == 'boxcox':\n",
    "                \n",
    "                if (df[feature] <= 0).any():\n",
    "                    min_val = df[feature].min()\n",
    "                    shift = abs(min_val) + 1\n",
    "                    shifted_values = df[feature] + shift\n",
    "                    df_transformed[f\"{feature}_boxcox\"], lambda_val = stats.boxcox(shifted_values)\n",
    "                    print(f\"applied boxcox transformation to {feature} (with +{shift} offset)\")\n",
    "                else:\n",
    "                    df_transformed[f\"{feature}_boxcox\"], lambda_val = stats.boxcox(df[feature])\n",
    "                    print(f\"applied boxcox transformation to {feature} (lambda={lambda_val:.4f})\")\n",
    "                    \n",
    "            elif current_method == 'yeo-johnson':\n",
    "                df_transformed[f\"{feature}_yeojohnson\"], lambda_val = stats.yeojohnson(df[feature])\n",
    "                print(f\"applied yeo-johnson transformation to {feature} (lambda={lambda_val:.4f})\")\n",
    "                \n",
    "            else:\n",
    "                print(f\"Unknown transformation method '{current_method}' for {feature}, skip\")\n",
    "                \n",
    "        except Exception as e:\n",
    "            print(f\"Error applying {current_method} transformation to {feature}: {str(e)}\")\n",
    "    \n",
    "    return df_transformed"
   ]
  },
  {
   "cell_type": "code",
   "execution_count": 16,
   "metadata": {},
   "outputs": [
    {
     "data": {
      "text/plain": [
       "Index([52, 67, 65, 61, 62, 64, 63, 66, 69,  5, 49,  3, 68, 53, 57, 56, 54, 55,\n",
       "       51, 15, 31, 34, 41, 43, 39, 16, 14, 44, 42, 40,  4,  2],\n",
       "      dtype='object')"
      ]
     },
     "execution_count": 16,
     "metadata": {},
     "output_type": "execute_result"
    }
   ],
   "source": [
    "skewed_features.index"
   ]
  },
  {
   "cell_type": "code",
   "execution_count": 17,
   "metadata": {},
   "outputs": [
    {
     "data": {
      "text/plain": [
       "[2,\n",
       " 3,\n",
       " 4,\n",
       " 5,\n",
       " 14,\n",
       " 15,\n",
       " 16,\n",
       " 31,\n",
       " 34,\n",
       " 39,\n",
       " 40,\n",
       " 41,\n",
       " 42,\n",
       " 43,\n",
       " 44,\n",
       " 49,\n",
       " 51,\n",
       " 52,\n",
       " 53,\n",
       " 54,\n",
       " 55,\n",
       " 61,\n",
       " 62,\n",
       " 63,\n",
       " 64,\n",
       " 65,\n",
       " 66,\n",
       " 67,\n",
       " 68,\n",
       " 69]"
      ]
     },
     "execution_count": 17,
     "metadata": {},
     "output_type": "execute_result"
    }
   ],
   "source": [
    "\n",
    "skewed_features = [52, 67, 65, 61, 62, 64, 63, 66, 69, 5, 49, 3, 68, 53, 57, 56, 54, 55, 51, 15, 31, 34, 41, 43, 39, 16, 14, 44, 42, 40, 4, 2]\n",
    "\n",
    "binary_feature = [56, 57, 58, 59, 60] # we don't want to do transformation to binary features \n",
    "\n",
    "to_be_transformed = list(set(skewed_features) - set(binary_feature))\n",
    "\n",
    "to_be_transformed"
   ]
  },
  {
   "cell_type": "code",
   "execution_count": 18,
   "metadata": {},
   "outputs": [
    {
     "name": "stdout",
     "output_type": "stream",
     "text": [
      "applied yeo-johnson transformation to 2 (lambda=1.3159)\n",
      "applied yeo-johnson transformation to 3 (lambda=0.5655)\n",
      "applied yeo-johnson transformation to 4 (lambda=1.2665)\n",
      "applied yeo-johnson transformation to 5 (lambda=0.5671)\n",
      "applied yeo-johnson transformation to 14 (lambda=1.3565)\n",
      "applied yeo-johnson transformation to 15 (lambda=1.1062)\n",
      "applied yeo-johnson transformation to 16 (lambda=1.3350)\n",
      "applied yeo-johnson transformation to 31 (lambda=1.6273)\n",
      "applied yeo-johnson transformation to 34 (lambda=1.7628)\n",
      "applied yeo-johnson transformation to 39 (lambda=2.1355)\n",
      "applied yeo-johnson transformation to 40 (lambda=2.8369)\n",
      "applied yeo-johnson transformation to 41 (lambda=2.0686)\n",
      "applied yeo-johnson transformation to 42 (lambda=2.2423)\n",
      "applied yeo-johnson transformation to 43 (lambda=2.0269)\n",
      "applied yeo-johnson transformation to 44 (lambda=2.1412)\n",
      "applied yeo-johnson transformation to 49 (lambda=0.7191)\n",
      "applied yeo-johnson transformation to 51 (lambda=0.3627)\n",
      "applied yeo-johnson transformation to 52 (lambda=-0.8532)\n",
      "applied yeo-johnson transformation to 53 (lambda=-1.9792)\n",
      "applied yeo-johnson transformation to 54 (lambda=-0.6460)\n",
      "applied yeo-johnson transformation to 55 (lambda=0.8837)\n",
      "applied yeo-johnson transformation to 61 (lambda=0.2351)\n",
      "applied yeo-johnson transformation to 62 (lambda=0.1503)\n",
      "applied yeo-johnson transformation to 63 (lambda=-0.3033)\n",
      "applied yeo-johnson transformation to 64 (lambda=0.1142)\n",
      "applied yeo-johnson transformation to 65 (lambda=0.2498)\n",
      "applied yeo-johnson transformation to 66 (lambda=-0.9895)\n",
      "applied yeo-johnson transformation to 67 (lambda=-13.0099)\n",
      "applied yeo-johnson transformation to 68 (lambda=-9.5425)\n",
      "applied yeo-johnson transformation to 69 (lambda=-32.5365)\n"
     ]
    }
   ],
   "source": [
    "df_transformed = feature_transformation(df, to_be_transformed, method='yeo-johnson') \n",
    "# setting yeo_johnson to default \n",
    "# since it can deal with positive and negative skewed "
   ]
  },
  {
   "cell_type": "code",
   "execution_count": 19,
   "metadata": {},
   "outputs": [
    {
     "data": {
      "text/plain": [
       "Index([              0,               1,               2,               3,\n",
       "                     4,               5,               6,               7,\n",
       "                     8,               9,\n",
       "       ...\n",
       "       '55_yeojohnson', '61_yeojohnson', '62_yeojohnson', '63_yeojohnson',\n",
       "       '64_yeojohnson', '65_yeojohnson', '66_yeojohnson', '67_yeojohnson',\n",
       "       '68_yeojohnson', '69_yeojohnson'],\n",
       "      dtype='object', length=101)"
      ]
     },
     "execution_count": 19,
     "metadata": {},
     "output_type": "execute_result"
    }
   ],
   "source": [
    "df_transformed.columns"
   ]
  },
  {
   "cell_type": "markdown",
   "metadata": {},
   "source": [
    "Standardize : 使用 standard scaler \n",
    "- for highly skewed feature : \n",
    "    - we trans , and then standardize \n",
    "- for feature with high kurtosis ; \n",
    "    - we only do standardization "
   ]
  },
  {
   "cell_type": "code",
   "execution_count": 20,
   "metadata": {},
   "outputs": [],
   "source": [
    "from sklearn.preprocessing import StandardScaler\n",
    "\n",
    "def standardize_features(df, features_to_standardize, return_scaler=False):\n",
    "    \n",
    "    df_standardized = df.copy()\n",
    "    \n",
    "    scaler_dict = {}\n",
    "    \n",
    "    valid_features = []\n",
    "    for feature in features_to_standardize:\n",
    "        if feature not in df.columns:\n",
    "            continue\n",
    "            \n",
    "        \n",
    "        if not np.issubdtype(df[feature].dtype, np.number):\n",
    "            print(f\" {feature} is not numeric, skip\")\n",
    "            continue\n",
    "            \n",
    "        valid_features.append(feature)\n",
    "    \n",
    "    if valid_features:\n",
    "        \n",
    "        scaler = StandardScaler()\n",
    "        scaled_values = scaler.fit_transform(df[valid_features])\n",
    "        \n",
    "        \n",
    "        for i, feature in enumerate(valid_features):\n",
    "            df_standardized[f\"{feature}_std\"] = scaled_values[:, i]\n",
    "            print(f\"applied standardization to {feature}\")\n",
    "        \n",
    "        if return_scaler:\n",
    "            scaler_dict = {feature: (scaler.mean_[i], scaler.scale_[i]) \n",
    "                          for i, feature in enumerate(valid_features)}\n",
    "    \n",
    "    if return_scaler:\n",
    "        return df_standardized, scaler_dict\n",
    "    else:\n",
    "        return df_standardized"
   ]
  },
  {
   "cell_type": "code",
   "execution_count": 21,
   "metadata": {},
   "outputs": [
    {
     "data": {
      "text/plain": [
       "Index([52, 67, 65, 62, 61, 64, 63, 66, 55, 49, 69,  4,  2,  5,  3, 17, 15, 68,\n",
       "       53, 54, 40, 14, 16, 57, 56, 42, 44, 13],\n",
       "      dtype='object')"
      ]
     },
     "execution_count": 21,
     "metadata": {},
     "output_type": "execute_result"
    }
   ],
   "source": [
    "kurt_features.index\n"
   ]
  },
  {
   "cell_type": "code",
   "execution_count": 22,
   "metadata": {},
   "outputs": [],
   "source": [
    "import re\n",
    "yeojohnson_cols = [col for col in df_transformed.columns if re.search('_yeojohnson$', str(col))]\n"
   ]
  },
  {
   "cell_type": "code",
   "execution_count": 27,
   "metadata": {},
   "outputs": [],
   "source": [
    "df_transformed.columns = [str(col) for col in df_transformed.columns]"
   ]
  },
  {
   "cell_type": "code",
   "execution_count": 34,
   "metadata": {},
   "outputs": [
    {
     "data": {
      "text/plain": [
       "['2_yeojohnson',\n",
       " '3_yeojohnson',\n",
       " '4_yeojohnson',\n",
       " '5_yeojohnson',\n",
       " '14_yeojohnson',\n",
       " '15_yeojohnson',\n",
       " '16_yeojohnson',\n",
       " '31_yeojohnson',\n",
       " '34_yeojohnson',\n",
       " '39_yeojohnson',\n",
       " '40_yeojohnson',\n",
       " '41_yeojohnson',\n",
       " '42_yeojohnson',\n",
       " '43_yeojohnson',\n",
       " '44_yeojohnson',\n",
       " '49_yeojohnson',\n",
       " '51_yeojohnson',\n",
       " '52_yeojohnson',\n",
       " '53_yeojohnson',\n",
       " '54_yeojohnson',\n",
       " '55_yeojohnson',\n",
       " '61_yeojohnson',\n",
       " '62_yeojohnson',\n",
       " '63_yeojohnson',\n",
       " '64_yeojohnson',\n",
       " '65_yeojohnson',\n",
       " '66_yeojohnson',\n",
       " '67_yeojohnson',\n",
       " '68_yeojohnson',\n",
       " '69_yeojohnson',\n",
       " '64',\n",
       " '65',\n",
       " '2',\n",
       " '3',\n",
       " '4',\n",
       " '5',\n",
       " '66',\n",
       " '67',\n",
       " '68',\n",
       " '69',\n",
       " '13',\n",
       " '14',\n",
       " '15',\n",
       " '16',\n",
       " '17',\n",
       " '40',\n",
       " '42',\n",
       " '44',\n",
       " '49',\n",
       " '52',\n",
       " '53',\n",
       " '54',\n",
       " '55',\n",
       " '61',\n",
       " '62',\n",
       " '63']"
      ]
     },
     "execution_count": 34,
     "metadata": {},
     "output_type": "execute_result"
    }
   ],
   "source": [
    "\n",
    "kurt_features = [52, 67, 65, 62, 61, 64, 63, 66, 55, 49, 69,  4,  2,  5,  3, 17, 15, 68,\n",
    "       53, 54, 40, 14, 16, 57, 56, 42, 44, 13]\n",
    "\n",
    "kurt_to_be_std = list(set(kurt_features)  - set(binary_feature))\n",
    "to_be_std = yeojohnson_cols + kurt_to_be_std\n",
    "\n",
    "std = []\n",
    "for i in to_be_std: \n",
    "       std.append(str(i))\n",
    "       \n",
    "std\n",
    "       "
   ]
  },
  {
   "cell_type": "code",
   "execution_count": 35,
   "metadata": {},
   "outputs": [
    {
     "name": "stdout",
     "output_type": "stream",
     "text": [
      "applied standardization to 2_yeojohnson\n",
      "applied standardization to 3_yeojohnson\n",
      "applied standardization to 4_yeojohnson\n",
      "applied standardization to 5_yeojohnson\n",
      "applied standardization to 14_yeojohnson\n",
      "applied standardization to 15_yeojohnson\n",
      "applied standardization to 16_yeojohnson\n",
      "applied standardization to 31_yeojohnson\n",
      "applied standardization to 34_yeojohnson\n",
      "applied standardization to 39_yeojohnson\n",
      "applied standardization to 40_yeojohnson\n",
      "applied standardization to 41_yeojohnson\n",
      "applied standardization to 42_yeojohnson\n",
      "applied standardization to 43_yeojohnson\n",
      "applied standardization to 44_yeojohnson\n",
      "applied standardization to 49_yeojohnson\n",
      "applied standardization to 51_yeojohnson\n",
      "applied standardization to 52_yeojohnson\n",
      "applied standardization to 53_yeojohnson\n",
      "applied standardization to 54_yeojohnson\n",
      "applied standardization to 55_yeojohnson\n",
      "applied standardization to 61_yeojohnson\n",
      "applied standardization to 62_yeojohnson\n",
      "applied standardization to 63_yeojohnson\n",
      "applied standardization to 64_yeojohnson\n",
      "applied standardization to 65_yeojohnson\n",
      "applied standardization to 66_yeojohnson\n",
      "applied standardization to 67_yeojohnson\n",
      "applied standardization to 68_yeojohnson\n",
      "applied standardization to 69_yeojohnson\n",
      "applied standardization to 64\n",
      "applied standardization to 65\n",
      "applied standardization to 2\n",
      "applied standardization to 3\n",
      "applied standardization to 4\n",
      "applied standardization to 5\n",
      "applied standardization to 66\n",
      "applied standardization to 67\n",
      "applied standardization to 68\n",
      "applied standardization to 69\n",
      "applied standardization to 13\n",
      "applied standardization to 14\n",
      "applied standardization to 15\n",
      "applied standardization to 16\n",
      "applied standardization to 17\n",
      "applied standardization to 40\n",
      "applied standardization to 42\n",
      "applied standardization to 44\n",
      "applied standardization to 49\n",
      "applied standardization to 52\n",
      "applied standardization to 53\n",
      "applied standardization to 54\n",
      "applied standardization to 55\n",
      "applied standardization to 61\n",
      "applied standardization to 62\n",
      "applied standardization to 63\n"
     ]
    }
   ],
   "source": [
    "df_standardized = standardize_features(df_transformed, std)"
   ]
  },
  {
   "cell_type": "code",
   "execution_count": 42,
   "metadata": {},
   "outputs": [
    {
     "name": "stdout",
     "output_type": "stream",
     "text": [
      "0\n",
      "1\n",
      "2\n",
      "3\n",
      "4\n",
      "5\n",
      "6\n",
      "7\n",
      "8\n",
      "9\n",
      "10\n",
      "11\n",
      "12\n",
      "13\n",
      "14\n",
      "15\n",
      "16\n",
      "17\n",
      "18\n",
      "19\n",
      "20\n",
      "21\n",
      "22\n",
      "23\n",
      "24\n",
      "25\n",
      "26\n",
      "27\n",
      "28\n",
      "29\n",
      "30\n",
      "31\n",
      "32\n",
      "33\n",
      "34\n",
      "35\n",
      "36\n",
      "37\n",
      "38\n",
      "39\n",
      "40\n",
      "41\n",
      "42\n",
      "43\n",
      "44\n",
      "45\n",
      "46\n",
      "47\n",
      "48\n",
      "49\n",
      "50\n",
      "51\n",
      "52\n",
      "53\n",
      "54\n",
      "55\n",
      "56\n",
      "57\n",
      "58\n",
      "59\n",
      "60\n",
      "61\n",
      "62\n",
      "63\n",
      "64\n",
      "65\n",
      "66\n",
      "67\n",
      "68\n",
      "69\n",
      "label\n",
      "2_yeojohnson\n",
      "3_yeojohnson\n",
      "4_yeojohnson\n",
      "5_yeojohnson\n",
      "14_yeojohnson\n",
      "15_yeojohnson\n",
      "16_yeojohnson\n",
      "31_yeojohnson\n",
      "34_yeojohnson\n",
      "39_yeojohnson\n",
      "40_yeojohnson\n",
      "41_yeojohnson\n",
      "42_yeojohnson\n",
      "43_yeojohnson\n",
      "44_yeojohnson\n",
      "49_yeojohnson\n",
      "51_yeojohnson\n",
      "52_yeojohnson\n",
      "53_yeojohnson\n",
      "54_yeojohnson\n",
      "55_yeojohnson\n",
      "61_yeojohnson\n",
      "62_yeojohnson\n",
      "63_yeojohnson\n",
      "64_yeojohnson\n",
      "65_yeojohnson\n",
      "66_yeojohnson\n",
      "67_yeojohnson\n",
      "68_yeojohnson\n",
      "69_yeojohnson\n",
      "2_yeojohnson_std\n",
      "3_yeojohnson_std\n",
      "4_yeojohnson_std\n",
      "5_yeojohnson_std\n",
      "14_yeojohnson_std\n",
      "15_yeojohnson_std\n",
      "16_yeojohnson_std\n",
      "31_yeojohnson_std\n",
      "34_yeojohnson_std\n",
      "39_yeojohnson_std\n",
      "40_yeojohnson_std\n",
      "41_yeojohnson_std\n",
      "42_yeojohnson_std\n",
      "43_yeojohnson_std\n",
      "44_yeojohnson_std\n",
      "49_yeojohnson_std\n",
      "51_yeojohnson_std\n",
      "52_yeojohnson_std\n",
      "53_yeojohnson_std\n",
      "54_yeojohnson_std\n",
      "55_yeojohnson_std\n",
      "61_yeojohnson_std\n",
      "62_yeojohnson_std\n",
      "63_yeojohnson_std\n",
      "64_yeojohnson_std\n",
      "65_yeojohnson_std\n",
      "66_yeojohnson_std\n",
      "67_yeojohnson_std\n",
      "68_yeojohnson_std\n",
      "69_yeojohnson_std\n",
      "64_std\n",
      "65_std\n",
      "2_std\n",
      "3_std\n",
      "4_std\n",
      "5_std\n",
      "66_std\n",
      "67_std\n",
      "68_std\n",
      "69_std\n",
      "13_std\n",
      "14_std\n",
      "15_std\n",
      "16_std\n",
      "17_std\n",
      "40_std\n",
      "42_std\n",
      "44_std\n",
      "49_std\n",
      "52_std\n",
      "53_std\n",
      "54_std\n",
      "55_std\n",
      "61_std\n",
      "62_std\n",
      "63_std\n"
     ]
    }
   ],
   "source": [
    "for i in df_standardized.columns: \n",
    "    print(i)\n",
    "    \n"
   ]
  },
  {
   "cell_type": "markdown",
   "metadata": {},
   "source": [
    "outlier 處理:  \n",
    "- 清掉可能導致訊息損失\n",
    "- 厚尾分布在金融資料常見 \n",
    "- 目前先保持不動"
   ]
  },
  {
   "cell_type": "code",
   "execution_count": 22,
   "metadata": {},
   "outputs": [],
   "source": [
    "# def handle_outliers(df, features, method='cap', threshold=3.0):\n",
    "#     \"\"\"\n",
    "#     处理离群值\n",
    "#     \"\"\"\n",
    "#     df_cleaned = df.copy()\n",
    "    \n",
    "#     for feature in features:\n",
    "#         if feature not in df.columns:\n",
    "#             print(f\"特征 {feature} 不存在，跳过\")\n",
    "#             continue\n",
    "            \n",
    "#         # 跳过非数值列\n",
    "#         if not np.issubdtype(df[feature].dtype, np.number):\n",
    "#             print(f\"特征 {feature} 不是数值类型，跳过\")\n",
    "#             continue\n",
    "            \n",
    "#         if method == 'cap':\n",
    "#             # 截断方法\n",
    "#             Q1 = df[feature].quantile(0.25)\n",
    "#             Q3 = df[feature].quantile(0.75)\n",
    "#             IQR = Q3 - Q1\n",
    "            \n",
    "#             lower_bound = Q1 - 1.5 * IQR\n",
    "#             upper_bound = Q3 + 1.5 * IQR\n",
    "            \n",
    "#             # 截断离群值\n",
    "#             df_cleaned[feature] = df[feature].clip(lower=lower_bound, upper=upper_bound)\n",
    "#             print(f\"对特征 {feature} 应用了IQR截断\")\n",
    "            \n",
    "#         elif method == 'remove':\n",
    "#             # 移除离群值\n",
    "#             z_scores = np.abs(stats.zscore(df[feature].dropna()))\n",
    "#             outlier_mask = z_scores > threshold\n",
    "#             # 创建一个布尔掩码，其中True代表要保留的行\n",
    "#             keep_mask = ~outlier_mask\n",
    "            \n",
    "#             # 应用掩码到数据框的行\n",
    "#             # 注意：这会过滤掉整行数据，可能不是您想要的\n",
    "#             original_shape = df_cleaned.shape\n",
    "#             df_cleaned = df_cleaned[~outlier_mask]\n",
    "#             print(f\"从特征 {feature} 移除了 {original_shape[0] - df_cleaned.shape[0]} 行离群值\")\n",
    "            \n",
    "#     return df_cleaned"
   ]
  },
  {
   "cell_type": "code",
   "execution_count": 23,
   "metadata": {},
   "outputs": [],
   "source": [
    "# df_cleaned = handle_outliers(df_standardized, skewed_features.index, method='cap')"
   ]
  },
  {
   "cell_type": "markdown",
   "metadata": {},
   "source": [
    "feature important analysis \n",
    "- light GBM --> more suitable \n",
    "- MI score "
   ]
  },
  {
   "cell_type": "code",
   "execution_count": 36,
   "metadata": {},
   "outputs": [
    {
     "name": "stdout",
     "output_type": "stream",
     "text": [
      "Starting feature importance calculation...\n"
     ]
    },
    {
     "name": "stderr",
     "output_type": "stream",
     "text": [
      "Starting LightGBM model training:  60%|██████    | 3/5 [00:02<00:03,  1.52s/it]                           "
     ]
    },
    {
     "name": "stdout",
     "output_type": "stream",
     "text": [
      "Calculating feature importance...\n"
     ]
    },
    {
     "name": "stderr",
     "output_type": "stream",
     "text": []
    },
    {
     "name": "stdout",
     "output_type": "stream",
     "text": [
      "[LightGBM] [Info] Auto-choosing col-wise multi-threading, the overhead of testing was 0.205526 seconds.\n",
      "You can set `force_col_wise=true` to remove the overhead.\n",
      "[LightGBM] [Info] Total Bins 37370\n",
      "[LightGBM] [Info] Number of data points in the train set: 939568, number of used features: 156\n",
      "[LightGBM] [Info] Start training from score -0.611953\n",
      "[LightGBM] [Info] Start training from score -1.519381\n",
      "[LightGBM] [Info] Start training from score -1.431870\n"
     ]
    },
    {
     "name": "stderr",
     "output_type": "stream",
     "text": [
      "Feature importance calculation complete!: 100%|██████████| 5/5 [00:41<00:00,  8.28s/it]              \n"
     ]
    },
    {
     "name": "stdout",
     "output_type": "stream",
     "text": [
      "Total number of original features: 156\n",
      "Number of selected features: 26\n",
      "Selected features explain 94.93% of total importance\n",
      "Generating feature importance visualization...\n"
     ]
    },
    {
     "data": {
      "image/png": "[encoded data removed]",
      "text/plain": [
       "<Figure size 1200x800 with 2 Axes>"
      ]
     },
     "metadata": {},
     "output_type": "display_data"
    },
    {
     "name": "stdout",
     "output_type": "stream",
     "text": [
      "Saving results to files...\n",
      "Results saved successfully!\n"
     ]
    }
   ],
   "source": [
    "from simple_feature_importance import calculate_simple_feature_importance\n",
    "\n",
    "importance_df, selected_features = calculate_simple_feature_importance(\n",
    "    df_standardized,\n",
    "    target_col='label',\n",
    "    categorical_features=['56', '57', '58', '59', '60'],\n",
    "    threshold=0.95  \n",
    ")"
   ]
  },
  {
   "cell_type": "code",
   "execution_count": 43,
   "metadata": {},
   "outputs": [
    {
     "name": "stdout",
     "output_type": "stream",
     "text": [
      "              feature    importance  importance_percentage  \\\n",
      "0                  24  2.973437e+06              84.825049   \n",
      "1                  58  3.905054e+04               1.114019   \n",
      "2                  47  2.691388e+04               0.767789   \n",
      "3                  54  2.321156e+04               0.662170   \n",
      "4                  68  1.901523e+04               0.542459   \n",
      "5                  59  1.850952e+04               0.528032   \n",
      "6                  43  1.747086e+04               0.498402   \n",
      "7                  49  1.658123e+04               0.473023   \n",
      "8   54_yeojohnson_std  1.514008e+04               0.431910   \n",
      "9                  69  1.393911e+04               0.397649   \n",
      "10                  2  1.380385e+04               0.393791   \n",
      "11                 67  1.367235e+04               0.390039   \n",
      "12                 56  1.310855e+04               0.373956   \n",
      "13                  4  1.307462e+04               0.372988   \n",
      "14  43_yeojohnson_std  1.247345e+04               0.355838   \n",
      "15  49_yeojohnson_std  1.067380e+04               0.304498   \n",
      "16                 46  9.487897e+03               0.270667   \n",
      "17  55_yeojohnson_std  8.942821e+03               0.255117   \n",
      "18                  0  8.921463e+03               0.254508   \n",
      "19                 18  8.893576e+03               0.253712   \n",
      "20                  1  8.788769e+03               0.250723   \n",
      "21                 14  8.742316e+03               0.249397   \n",
      "\n",
      "    cumulative_importance  \n",
      "0               84.825049  \n",
      "1               85.939068  \n",
      "2               86.706857  \n",
      "3               87.369027  \n",
      "4               87.911486  \n",
      "5               88.439519  \n",
      "6               88.937920  \n",
      "7               89.410943  \n",
      "8               89.842854  \n",
      "9               90.240503  \n",
      "10              90.634294  \n",
      "11              91.024333  \n",
      "12              91.398289  \n",
      "13              91.771276  \n",
      "14              92.127114  \n",
      "15              92.431612  \n",
      "16              92.702279  \n",
      "17              92.957396  \n",
      "18              93.211905  \n",
      "19              93.465617  \n",
      "20              93.716340  \n",
      "21              93.965737  \n",
      "----------------------------------------------------------------------------------------------------\n",
      "choose26features\n"
     ]
    }
   ],
   "source": [
    "print(importance_df.head(22))\n",
    "print('-'*100)\n",
    "print(f'choose{len(selected_features)}features')\n"
   ]
  }
 ],
 "metadata": {
  "kernelspec": {
   "display_name": "Python 3",
   "language": "python",
   "name": "python3"
  },
  "language_info": {
   "codemirror_mode": {
    "name": "ipython",
    "version": 3
   },
   "file_extension": ".py",
   "mimetype": "text/x-python",
   "name": "python",
   "nbconvert_exporter": "python",
   "pygments_lexer": "ipython3",
   "version": "3.12.9"
  }
 },
 "nbformat": 4,
 "nbformat_minor": 2
}
